{
 "cells": [
  {
   "cell_type": "markdown",
   "id": "7bb5445e",
   "metadata": {},
   "source": [
    "## Problem Statement No. 02\n",
    "Perform the following operations on Age-Income dataset (Age-Income-Dataset.csv)\n",
    "1) Provide summary statistics (mean, median, minimum, maximum, standard deviation) for numeric variables with and\n",
    "without using any library functions.\n",
    "2) Provide summary statistics of income grouped by the age groups. Create a list that contains a numeric value for each\n",
    "response to the categorical variable."
   ]
  },
  {
   "cell_type": "code",
   "execution_count": 1,
   "id": "fac5c2fe",
   "metadata": {},
   "outputs": [],
   "source": [
    "import pandas as pd\n",
    "import numpy as np\n",
    "import seaborn as sns"
   ]
  },
  {
   "cell_type": "code",
   "execution_count": 2,
   "id": "9eb0fbd7",
   "metadata": {},
   "outputs": [
    {
     "data": {
      "text/html": [
       "<div>\n",
       "<style scoped>\n",
       "    .dataframe tbody tr th:only-of-type {\n",
       "        vertical-align: middle;\n",
       "    }\n",
       "\n",
       "    .dataframe tbody tr th {\n",
       "        vertical-align: top;\n",
       "    }\n",
       "\n",
       "    .dataframe thead th {\n",
       "        text-align: right;\n",
       "    }\n",
       "</style>\n",
       "<table border=\"1\" class=\"dataframe\">\n",
       "  <thead>\n",
       "    <tr style=\"text-align: right;\">\n",
       "      <th></th>\n",
       "      <th>Age</th>\n",
       "      <th>Income</th>\n",
       "    </tr>\n",
       "  </thead>\n",
       "  <tbody>\n",
       "    <tr>\n",
       "      <th>0</th>\n",
       "      <td>Young</td>\n",
       "      <td>25000</td>\n",
       "    </tr>\n",
       "    <tr>\n",
       "      <th>1</th>\n",
       "      <td>Middle Age</td>\n",
       "      <td>54000</td>\n",
       "    </tr>\n",
       "    <tr>\n",
       "      <th>2</th>\n",
       "      <td>Old</td>\n",
       "      <td>60000</td>\n",
       "    </tr>\n",
       "    <tr>\n",
       "      <th>3</th>\n",
       "      <td>Young</td>\n",
       "      <td>15000</td>\n",
       "    </tr>\n",
       "    <tr>\n",
       "      <th>4</th>\n",
       "      <td>Young</td>\n",
       "      <td>45000</td>\n",
       "    </tr>\n",
       "  </tbody>\n",
       "</table>\n",
       "</div>"
      ],
      "text/plain": [
       "          Age  Income\n",
       "0       Young   25000\n",
       "1  Middle Age   54000\n",
       "2         Old   60000\n",
       "3       Young   15000\n",
       "4       Young   45000"
      ]
     },
     "execution_count": 2,
     "metadata": {},
     "output_type": "execute_result"
    }
   ],
   "source": [
    "#without using library function\n",
    "df=pd.read_excel(r\"D:\\OneDrive\\Desktop\\Desktop\\New folder\\Datasets\\Age-Income-Dataset.xlsx\")\n",
    "df.head()"
   ]
  },
  {
   "cell_type": "code",
   "execution_count": 3,
   "id": "fcb5f00e",
   "metadata": {},
   "outputs": [
    {
     "data": {
      "text/plain": [
       "Age       0\n",
       "Income    0\n",
       "dtype: int64"
      ]
     },
     "execution_count": 3,
     "metadata": {},
     "output_type": "execute_result"
    }
   ],
   "source": [
    "df.isnull().sum()"
   ]
  },
  {
   "cell_type": "code",
   "execution_count": 34,
   "id": "12640cd6",
   "metadata": {},
   "outputs": [
    {
     "name": "stdout",
     "output_type": "stream",
     "text": [
      "50966.0\n",
      "46850\n",
      "(80000, 2)\n",
      "15000\n",
      "93000\n",
      "445070044.0\n"
     ]
    }
   ],
   "source": [
    "def mean(arr):\n",
    "    return sum(arr)/len(arr)\n",
    "def median(arr):\n",
    "    n=len(arr)\n",
    "    arr=sorted(arr)\n",
    "    if n%2==0:\n",
    "        mid1=(n//2)-1\n",
    "        mid2=n//2\n",
    "        return (arr[mid1]+arr[mid2])//2\n",
    "    else :\n",
    "        return arr[n//2]\n",
    "def mode(arr):\n",
    "    n=len(arr)\n",
    "    res=0\n",
    "    max=-9999\n",
    "    a=set(arr)\n",
    "    for i in a:\n",
    "        count= arr[arr==i].count()\n",
    "        if count>max:\n",
    "            max=count\n",
    "            res=i\n",
    "    return res,max\n",
    "def minimum(arr):\n",
    "    return sorted(arr)[0]\n",
    "def maximum(arr):\n",
    "    return sorted(arr)[-1]\n",
    "def var(arr):\n",
    "    mean=sum(arr)/len(arr)\n",
    "    var=sum((x-mean)**2 for x in arr)//(len(arr)-1)\n",
    "    return var\n",
    "print(mean(df[\"Income\"]))\n",
    "print(median(df[\"Income\"]))\n",
    "print(mode(df[\"Income\"]))\n",
    "print(minimum(df[\"Income\"]))\n",
    "print(maximum(df[\"Income\"]))\n",
    "print(var(df[\"Income\"]))"
   ]
  },
  {
   "cell_type": "code",
   "execution_count": 17,
   "id": "629fb3cc",
   "metadata": {},
   "outputs": [
    {
     "data": {
      "text/html": [
       "<div>\n",
       "<style scoped>\n",
       "    .dataframe tbody tr th:only-of-type {\n",
       "        vertical-align: middle;\n",
       "    }\n",
       "\n",
       "    .dataframe tbody tr th {\n",
       "        vertical-align: top;\n",
       "    }\n",
       "\n",
       "    .dataframe thead th {\n",
       "        text-align: right;\n",
       "    }\n",
       "</style>\n",
       "<table border=\"1\" class=\"dataframe\">\n",
       "  <thead>\n",
       "    <tr style=\"text-align: right;\">\n",
       "      <th></th>\n",
       "      <th>Income</th>\n",
       "    </tr>\n",
       "  </thead>\n",
       "  <tbody>\n",
       "    <tr>\n",
       "      <th>count</th>\n",
       "      <td>50.000000</td>\n",
       "    </tr>\n",
       "    <tr>\n",
       "      <th>mean</th>\n",
       "      <td>50966.000000</td>\n",
       "    </tr>\n",
       "    <tr>\n",
       "      <th>std</th>\n",
       "      <td>21096.683268</td>\n",
       "    </tr>\n",
       "    <tr>\n",
       "      <th>min</th>\n",
       "      <td>15000.000000</td>\n",
       "    </tr>\n",
       "    <tr>\n",
       "      <th>25%</th>\n",
       "      <td>33475.000000</td>\n",
       "    </tr>\n",
       "    <tr>\n",
       "      <th>50%</th>\n",
       "      <td>46850.000000</td>\n",
       "    </tr>\n",
       "    <tr>\n",
       "      <th>75%</th>\n",
       "      <td>65400.000000</td>\n",
       "    </tr>\n",
       "    <tr>\n",
       "      <th>max</th>\n",
       "      <td>93000.000000</td>\n",
       "    </tr>\n",
       "  </tbody>\n",
       "</table>\n",
       "</div>"
      ],
      "text/plain": [
       "             Income\n",
       "count     50.000000\n",
       "mean   50966.000000\n",
       "std    21096.683268\n",
       "min    15000.000000\n",
       "25%    33475.000000\n",
       "50%    46850.000000\n",
       "75%    65400.000000\n",
       "max    93000.000000"
      ]
     },
     "execution_count": 17,
     "metadata": {},
     "output_type": "execute_result"
    }
   ],
   "source": [
    "df.describe()"
   ]
  },
  {
   "cell_type": "code",
   "execution_count": 24,
   "id": "0b5611d9",
   "metadata": {},
   "outputs": [
    {
     "name": "stdout",
     "output_type": "stream",
     "text": [
      "50966.0\n",
      "46850.0\n",
      "0    23000\n",
      "1    25600\n",
      "2    45000\n",
      "3    65400\n",
      "4    80000\n",
      "Name: Income, dtype: int64\n",
      "15000\n",
      "93000\n",
      "445070044.8979592\n",
      "21096.683267707253\n"
     ]
    }
   ],
   "source": [
    "# with functions\n",
    "print(df[\"Income\"].mean())\n",
    "print(df[\"Income\"].median())\n",
    "print(df[\"Income\"].mode())\n",
    "print(df[\"Income\"].min())\n",
    "print(df[\"Income\"].max())\n",
    "print(df[\"Income\"].var())\n",
    "print(df[\"Income\"].std())"
   ]
  },
  {
   "cell_type": "code",
   "execution_count": 31,
   "id": "fba4c580",
   "metadata": {},
   "outputs": [
    {
     "name": "stdout",
     "output_type": "stream",
     "text": [
      "50966.0\n",
      "46850.0\n",
      "15000\n",
      "93000\n",
      "436168644.0\n",
      "20884.6509187968\n"
     ]
    }
   ],
   "source": [
    "print(np.mean(df[\"Income\"]))\n",
    "print(np.median(df[\"Income\"]))\n",
    "print(np.min(df[\"Income\"]))\n",
    "print(np.max(df[\"Income\"]))\n",
    "print(np.var(df[\"Income\"]))\n",
    "print(np.std(df[\"Income\"]))"
   ]
  },
  {
   "cell_type": "code",
   "execution_count": 44,
   "id": "f363677c",
   "metadata": {},
   "outputs": [
    {
     "data": {
      "text/html": [
       "<div>\n",
       "<style scoped>\n",
       "    .dataframe tbody tr th:only-of-type {\n",
       "        vertical-align: middle;\n",
       "    }\n",
       "\n",
       "    .dataframe tbody tr th {\n",
       "        vertical-align: top;\n",
       "    }\n",
       "\n",
       "    .dataframe thead th {\n",
       "        text-align: right;\n",
       "    }\n",
       "</style>\n",
       "<table border=\"1\" class=\"dataframe\">\n",
       "  <thead>\n",
       "    <tr style=\"text-align: right;\">\n",
       "      <th></th>\n",
       "      <th>mean</th>\n",
       "      <th>median</th>\n",
       "      <th>min</th>\n",
       "      <th>max</th>\n",
       "      <th>count</th>\n",
       "      <th>var</th>\n",
       "      <th>std</th>\n",
       "    </tr>\n",
       "    <tr>\n",
       "      <th>Age</th>\n",
       "      <th></th>\n",
       "      <th></th>\n",
       "      <th></th>\n",
       "      <th></th>\n",
       "      <th></th>\n",
       "      <th></th>\n",
       "      <th></th>\n",
       "    </tr>\n",
       "  </thead>\n",
       "  <tbody>\n",
       "    <tr>\n",
       "      <th>Middle Age</th>\n",
       "      <td>52453.333333</td>\n",
       "      <td>53200.0</td>\n",
       "      <td>25600</td>\n",
       "      <td>93000</td>\n",
       "      <td>15</td>\n",
       "      <td>4.201598e+08</td>\n",
       "      <td>20497.800114</td>\n",
       "    </tr>\n",
       "    <tr>\n",
       "      <th>Old</th>\n",
       "      <td>53942.105263</td>\n",
       "      <td>45300.0</td>\n",
       "      <td>24500</td>\n",
       "      <td>89700</td>\n",
       "      <td>19</td>\n",
       "      <td>4.354804e+08</td>\n",
       "      <td>20868.165968</td>\n",
       "    </tr>\n",
       "    <tr>\n",
       "      <th>Young</th>\n",
       "      <td>46037.500000</td>\n",
       "      <td>41500.0</td>\n",
       "      <td>15000</td>\n",
       "      <td>87000</td>\n",
       "      <td>16</td>\n",
       "      <td>4.998292e+08</td>\n",
       "      <td>22356.859499</td>\n",
       "    </tr>\n",
       "  </tbody>\n",
       "</table>\n",
       "</div>"
      ],
      "text/plain": [
       "                    mean   median    min    max  count           var  \\\n",
       "Age                                                                    \n",
       "Middle Age  52453.333333  53200.0  25600  93000     15  4.201598e+08   \n",
       "Old         53942.105263  45300.0  24500  89700     19  4.354804e+08   \n",
       "Young       46037.500000  41500.0  15000  87000     16  4.998292e+08   \n",
       "\n",
       "                     std  \n",
       "Age                       \n",
       "Middle Age  20497.800114  \n",
       "Old         20868.165968  \n",
       "Young       22356.859499  "
      ]
     },
     "execution_count": 44,
     "metadata": {},
     "output_type": "execute_result"
    }
   ],
   "source": [
    "df.groupby(\"Age\")[\"Income\"].agg([\"mean\",\"median\",\"min\",\"max\",\"count\",\"var\",\"std\"])"
   ]
  },
  {
   "cell_type": "code",
   "execution_count": 48,
   "id": "21f6dafc",
   "metadata": {},
   "outputs": [
    {
     "data": {
      "text/html": [
       "<div>\n",
       "<style scoped>\n",
       "    .dataframe tbody tr th:only-of-type {\n",
       "        vertical-align: middle;\n",
       "    }\n",
       "\n",
       "    .dataframe tbody tr th {\n",
       "        vertical-align: top;\n",
       "    }\n",
       "\n",
       "    .dataframe thead th {\n",
       "        text-align: right;\n",
       "    }\n",
       "</style>\n",
       "<table border=\"1\" class=\"dataframe\">\n",
       "  <thead>\n",
       "    <tr style=\"text-align: right;\">\n",
       "      <th></th>\n",
       "      <th>avg_income</th>\n",
       "      <th>income_std</th>\n",
       "      <th>min_income</th>\n",
       "      <th>max_income</th>\n",
       "    </tr>\n",
       "    <tr>\n",
       "      <th>Age</th>\n",
       "      <th></th>\n",
       "      <th></th>\n",
       "      <th></th>\n",
       "      <th></th>\n",
       "    </tr>\n",
       "  </thead>\n",
       "  <tbody>\n",
       "    <tr>\n",
       "      <th>Middle Age</th>\n",
       "      <td>52453.333333</td>\n",
       "      <td>20497.800114</td>\n",
       "      <td>25600</td>\n",
       "      <td>93000</td>\n",
       "    </tr>\n",
       "    <tr>\n",
       "      <th>Old</th>\n",
       "      <td>53942.105263</td>\n",
       "      <td>20868.165968</td>\n",
       "      <td>24500</td>\n",
       "      <td>89700</td>\n",
       "    </tr>\n",
       "    <tr>\n",
       "      <th>Young</th>\n",
       "      <td>46037.500000</td>\n",
       "      <td>22356.859499</td>\n",
       "      <td>15000</td>\n",
       "      <td>87000</td>\n",
       "    </tr>\n",
       "  </tbody>\n",
       "</table>\n",
       "</div>"
      ],
      "text/plain": [
       "              avg_income    income_std  min_income  max_income\n",
       "Age                                                           \n",
       "Middle Age  52453.333333  20497.800114       25600       93000\n",
       "Old         53942.105263  20868.165968       24500       89700\n",
       "Young       46037.500000  22356.859499       15000       87000"
      ]
     },
     "execution_count": 48,
     "metadata": {},
     "output_type": "execute_result"
    }
   ],
   "source": [
    "df.groupby(\"Age\")[\"Income\"].agg(\n",
    "    avg_income='mean',\n",
    "    income_std='std',\n",
    "    min_income='min',\n",
    "    max_income='max'\n",
    ")"
   ]
  },
  {
   "cell_type": "code",
   "execution_count": null,
   "id": "4d33e3b9",
   "metadata": {},
   "outputs": [],
   "source": []
  }
 ],
 "metadata": {
  "kernelspec": {
   "display_name": "Python 3 (ipykernel)",
   "language": "python",
   "name": "python3"
  },
  "language_info": {
   "codemirror_mode": {
    "name": "ipython",
    "version": 3
   },
   "file_extension": ".py",
   "mimetype": "text/x-python",
   "name": "python",
   "nbconvert_exporter": "python",
   "pygments_lexer": "ipython3",
   "version": "3.11.5"
  }
 },
 "nbformat": 4,
 "nbformat_minor": 5
}
